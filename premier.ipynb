{
 "cells": [
  {
   "cell_type": "code",
   "execution_count": null,
   "metadata": {
    "vscode": {
     "languageId": "plaintext"
    }
   },
   "outputs": [],
   "source": [
    "import pandas as pd\n",
    "import numpy as np\n",
    "from statsmodels.api import GLM\n",
    "from statsmodels.families import Poisson, Tweedie"
   ]
  },
  {
   "cell_type": "code",
   "execution_count": null,
   "metadata": {
    "vscode": {
     "languageId": "plaintext"
    }
   },
   "outputs": [],
   "source": [
    "def load_data():\n",
    "    # Chargement des données d'entraînement\n",
    "    train_df = pd.read_csv('data/train_output_DzPxaPY.csv')\n",
    "    \n",
    "    # Chargement des données de test\n",
    "    test_df = pd.read_csv('data/test_input_5qJzHrr.csv')\n",
    "    \n",
    "    # Chargement du format de soumission\n",
    "    submission_example = pd.read_csv('data/submission_csv_file_random_example_3fbDtrr (1).csv')\n",
    "    \n",
    "    return train_df, test_df, submission_example"
   ]
  },
  {
   "cell_type": "code",
   "execution_count": null,
   "metadata": {
    "vscode": {
     "languageId": "plaintext"
    }
   },
   "outputs": [],
   "source": [
    "# 2. Préparation des données\n",
    "def prepare_data(train_df, test_df):\n",
    "    # Séparation des features et targets dans le train\n",
    "    y_freq = train_df['FREQ']\n",
    "    y_cost = train_df['CM']\n",
    "    X_train = train_df.drop(['FREQ', 'CM', 'CHARGE', 'ID'], axis=1)\n",
    "    \n",
    "    # Préparation du test\n",
    "    X_test = test_df.drop(['ID'], axis=1)\n",
    "    \n",
    "    # Encodage des variables catégorielles\n",
    "    # Important : utiliser le même encodage pour train et test\n",
    "    categorical_cols = [col for col in X_train.columns if X_train[col].dtype == 'object']\n",
    "    \n",
    "    # Création d'un DataFrame combiné pour l'encodage\n",
    "    combined_data = pd.concat([X_train, X_test], axis=0)\n",
    "    encoded_data = pd.get_dummies(combined_data, columns=categorical_cols)\n",
    "    \n",
    "    # Séparation des données encodées\n",
    "    X_train_encoded = encoded_data[:len(X_train)]\n",
    "    X_test_encoded = encoded_data[len(X_train):]\n",
    "    \n",
    "    return X_train_encoded, X_test_encoded, y_freq, y_cost"
   ]
  },
  {
   "cell_type": "code",
   "execution_count": null,
   "metadata": {
    "vscode": {
     "languageId": "plaintext"
    }
   },
   "outputs": [],
   "source": [
    "# 3. Création et entraînement des modèles\n",
    "def train_models(X_train, y_freq, y_cost):\n",
    "    # Modèle de fréquence\n",
    "    freq_model = GLM(\n",
    "        y_freq,\n",
    "        X_train,\n",
    "        family=Poisson(link='log')\n",
    "    ).fit()\n",
    "    \n",
    "    # Modèle de coût\n",
    "    cost_model = GLM(\n",
    "        y_cost,\n",
    "        X_train,\n",
    "        family=Tweedie(link='log', var_power=1.5)\n",
    "    ).fit()\n",
    "    \n",
    "    return freq_model, cost_model"
   ]
  },
  {
   "cell_type": "code",
   "execution_count": null,
   "metadata": {
    "vscode": {
     "languageId": "plaintext"
    }
   },
   "outputs": [],
   "source": [
    "# 4. Génération des prédictions et du fichier de soumission\n",
    "def generate_submission(freq_model, cost_model, X_test, test_df, submission_example):\n",
    "    # Prédictions\n",
    "    pred_freq = freq_model.predict(X_test)\n",
    "    pred_cost = cost_model.predict(X_test)\n",
    "    \n",
    "    # Calcul de la charge prédite\n",
    "    pred_charge = pred_freq * pred_cost * test_df['ANNEE_ASSURANCE']\n",
    "    \n",
    "    # Création du fichier de soumission\n",
    "    submission = pd.DataFrame({\n",
    "        'ID': test_df['ID'],\n",
    "        'CHARGE': pred_charge\n",
    "    })\n",
    "    \n",
    "    # Vérification du format avec l'exemple\n",
    "    assert all(submission.columns == submission_example.columns), \"Format de colonnes incorrect\"\n",
    "    \n",
    "    return submission"
   ]
  },
  {
   "cell_type": "code",
   "execution_count": null,
   "metadata": {
    "vscode": {
     "languageId": "plaintext"
    }
   },
   "outputs": [],
   "source": [
    "def main():\n",
    "    # Chargement des données\n",
    "    print(\"Chargement des données...\")\n",
    "    train_df, test_df, submission_example = load_data()"
   ]
  },
  {
   "cell_type": "code",
   "execution_count": null,
   "metadata": {
    "vscode": {
     "languageId": "plaintext"
    }
   },
   "outputs": [],
   "source": [
    "# Préparation des données\n",
    "    print(\"Préparation des données...\")\n",
    "    X_train, X_test, y_freq, y_cost = prepare_data(train_df, test_df)"
   ]
  },
  {
   "cell_type": "code",
   "execution_count": null,
   "metadata": {
    "vscode": {
     "languageId": "plaintext"
    }
   },
   "outputs": [],
   "source": [
    "# Entraînement des modèles\n",
    "    print(\"Entraînement des modèles...\")\n",
    "    freq_model, cost_model = train_models(X_train, y_freq, y_cost)"
   ]
  },
  {
   "cell_type": "code",
   "execution_count": null,
   "metadata": {
    "vscode": {
     "languageId": "plaintext"
    }
   },
   "outputs": [],
   "source": [
    "# Génération de la soumission\n",
    "    print(\"Génération du fichier de soumission...\")\n",
    "    submission = generate_submission(freq_model, cost_model, X_test, test_df, submission_example)"
   ]
  },
  {
   "cell_type": "code",
   "execution_count": null,
   "metadata": {
    "vscode": {
     "languageId": "plaintext"
    }
   },
   "outputs": [],
   "source": [
    "# Sauvegarde du fichier de soumission\n",
    "    submission.to_csv('submission.csv', index=False)\n",
    "    print(\"Fichier de soumission généré avec succès!\")\n",
    "    \n",
    "    return freq_model, cost_model, submission"
   ]
  },
  {
   "cell_type": "code",
   "execution_count": null,
   "metadata": {
    "vscode": {
     "languageId": "plaintext"
    }
   },
   "outputs": [],
   "source": [
    "# Septième cellule (optionnelle) - Visualisation des résultats\n",
    "# Afficher quelques statistiques sur les prédictions\n",
    "print(\"Statistiques des prédictions :\")\n",
    "print(submission['CHARGE'].describe())\n"
   ]
  },
  {
   "cell_type": "code",
   "execution_count": null,
   "metadata": {
    "vscode": {
     "languageId": "plaintext"
    }
   },
   "outputs": [],
   "source": [
    "# Visualisation de la distribution des prédictions\n",
    "import matplotlib.pyplot as plt\n",
    "plt.figure(figsize=(10, 6))\n",
    "plt.hist(submission['CHARGE'], bins=50)\n",
    "plt.title('Distribution des charges prédites')\n",
    "plt.xlabel('Charge')\n",
    "plt.ylabel('Fréquence')\n",
    "plt.show()"
   ]
  }
 ],
 "metadata": {
  "language_info": {
   "name": "python"
  }
 },
 "nbformat": 4,
 "nbformat_minor": 2
}
